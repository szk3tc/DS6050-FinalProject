{
 "cells": [
  {
   "cell_type": "code",
   "execution_count": null,
   "metadata": {
    "application/vnd.databricks.v1+cell": {
     "cellMetadata": {},
     "inputWidgets": {},
     "nuid": "cb3688c8-1ca6-4f21-9b5d-7d65c7ce5576",
     "showTitle": false,
     "title": ""
    }
   },
   "outputs": [],
   "source": [
    "%pip install python-docx\n",
    "\n",
    "%pip install streamlit==1.24.1\n",
    "\n",
    "%pip install sentence-transformers\n",
    "\n",
    "%pip install torch\n",
    "\n",
    "%pip install --upgrade jinja2\n",
    "\n",
    "!pip install pypdf2\n",
    "\n",
    "!pip install streamlit-option-menu\n",
    "\n",
    "!pip install scipy==1.7.3\n",
    "\n",
    "!pip install nltk\n",
    "\n",
    "!pip install langchain pydantic==1.10.11\n",
    "\n",
    "!pip install openai==0.28"
   ]
  },
  {
   "cell_type": "code",
   "execution_count": null,
   "metadata": {
    "application/vnd.databricks.v1+cell": {
     "cellMetadata": {},
     "inputWidgets": {},
     "nuid": "cb3688c8-1ca6-4f21-9b5d-7d65c7ce5576",
     "showTitle": false,
     "title": ""
    }
   },
   "outputs": [],
   "source": [
    "#https://databricks.advana.data.mil/driver-proxy/o/0/0722-181830-spar163/8501/\n",
    "!streamlit run app_2.py --browser.gatherUsageStats false --server.enableXsrfProtection=false --theme.base dark --theme.primaryColor 00bbae --browser.serverPort 8501"
   ]
  },
  {
   "cell_type": "code",
   "execution_count": null,
   "metadata": {
    "application/vnd.databricks.v1+cell": {
     "cellMetadata": {},
     "inputWidgets": {},
     "nuid": "226b4f70-dc2f-477b-ace0-438f9131b385",
     "showTitle": false,
     "title": ""
    }
   },
   "outputs": [],
   "source": [
    "# !streamlit run app.py "
   ]
  },
  {
   "cell_type": "code",
   "execution_count": null,
   "metadata": {
    "application/vnd.databricks.v1+cell": {
     "cellMetadata": {},
     "inputWidgets": {},
     "nuid": "8421955d-234f-4420-8c0c-e94eaf828844",
     "showTitle": false,
     "title": ""
    }
   },
   "outputs": [],
   "source": [
    "# !streamlit run app.py --theme.base dark --theme.primaryColor 08828D --browser.gatherUsageStats false"
   ]
  },
  {
   "cell_type": "code",
   "execution_count": null,
   "metadata": {
    "application/vnd.databricks.v1+cell": {
     "cellMetadata": {},
     "inputWidgets": {},
     "nuid": "6618666a-d7a3-4077-a0f5-84f87a3de603",
     "showTitle": false,
     "title": ""
    }
   },
   "outputs": [],
   "source": [
    "# !streamlit run --help"
   ]
  },
  {
   "cell_type": "code",
   "execution_count": null,
   "metadata": {
    "application/vnd.databricks.v1+cell": {
     "cellMetadata": {},
     "inputWidgets": {},
     "nuid": "e161f82c-9d16-4296-936f-42bca9b0c0d4",
     "showTitle": false,
     "title": ""
    }
   },
   "outputs": [],
   "source": [
    "# for key, item in dict.items():\n",
    "#     if item is None:\n",
    "#         continue\n",
    "#     dict[key] = item[0]"
   ]
  },
  {
   "cell_type": "code",
   "execution_count": null,
   "metadata": {
    "application/vnd.databricks.v1+cell": {
     "cellMetadata": {},
     "inputWidgets": {},
     "nuid": "7ded9fcf-7b0b-455a-bcca-77953a7a3439",
     "showTitle": false,
     "title": ""
    }
   },
   "outputs": [],
   "source": [
    "# import pandas as pd\n",
    "# df = pd.DataFrame(dict)\n",
    "# df"
   ]
  },
  {
   "cell_type": "code",
   "execution_count": null,
   "metadata": {
    "application/vnd.databricks.v1+cell": {
     "cellMetadata": {},
     "inputWidgets": {},
     "nuid": "36dc00c4-c9f8-483e-b9a7-b65017d6be98",
     "showTitle": false,
     "title": ""
    }
   },
   "outputs": [],
   "source": [
    "import os\n",
    "\n",
    "os.environ['KMP_DUPLICATE_LIB_OK']='True'\n",
    "import streamlit as st\n",
    "import pandas as pd\n",
    "# import plotly.express as px\n",
    "from streamlit_option_menu import option_menu\n",
    "local = True\n",
    "import streamlit.components.v1 as components\n",
    "\n",
    "\n",
    "import streamlit as st\n",
    "import torch\n",
    "import time\n",
    "from sentence_transformers import SentenceTransformer, util\n",
    "from streamlit_option_menu import option_menu\n",
    "import re\n",
    "from io import StringIO\n",
    "\n",
    "@st.cache_resource\n",
    "def read_chunks():\n",
    "  \n",
    "    print(\"reading in chunks\")\n",
    "    \n",
    "    \n",
    "#     spark = SparkSession.builder.appName(\"Databricks Shell\").getOrCreate()\n",
    "    \n",
    "    \n",
    "\n",
    "\n",
    "    df = pd.read_csv(\"NvidiaDocumentationQandApairs.csv\")\n",
    "\n",
    "    model = SentenceTransformer(\"sentence-transformers/all-mpnet-base-v2\")\n",
    "    corpus = df[\"question\"].tolist()\n",
    "    corpus_embedings = model.encode(corpus, convert_to_tensor=True)\n",
    "    return model, df, corpus_embedings, corpus"
   ]
  }
 ],
 "metadata": {
  "application/vnd.databricks.v1+notebook": {
   "dashboards": [],
   "language": "python",
   "notebookMetadata": {
    "pythonIndentUnit": 2
   },
   "notebookName": "driver_app",
   "notebookOrigID": 17077518,
   "widgets": {}
  },
  "kernelspec": {
   "display_name": "Python 3 (ipykernel)",
   "language": "python",
   "name": "python3"
  },
  "language_info": {
   "codemirror_mode": {
    "name": "ipython",
    "version": 3
   },
   "file_extension": ".py",
   "mimetype": "text/x-python",
   "name": "python",
   "nbconvert_exporter": "python",
   "pygments_lexer": "ipython3",
   "version": "3.9.5"
  }
 },
 "nbformat": 4,
 "nbformat_minor": 1
}
